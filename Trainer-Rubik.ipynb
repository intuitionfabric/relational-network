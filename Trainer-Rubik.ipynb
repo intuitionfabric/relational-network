{
 "cells": [
  {
   "cell_type": "code",
   "execution_count": null,
   "metadata": {
    "collapsed": true
   },
   "outputs": [],
   "source": [
    "%matplotlib inline\n",
    "\n",
    "from rubik import *\n",
    "from rubikdatagen import * \n",
    "from rubiktrainer import *\n",
    "from rubikNN import *"
   ]
  },
  {
   "cell_type": "code",
   "execution_count": null,
   "metadata": {
    "collapsed": true
   },
   "outputs": [],
   "source": [
    "import numpy as np\n",
    "import random\n",
    "import torch\n",
    "import torch.nn as nn\n",
    "import torch.optim as optim\n",
    "import torch.nn.functional as F\n",
    "import torch.nn.init as init\n",
    "from torch.autograd import Variable"
   ]
  },
  {
   "cell_type": "code",
   "execution_count": null,
   "metadata": {
    "collapsed": true
   },
   "outputs": [],
   "source": [
    "cuda_available = torch.cuda.is_available()\n",
    "\n",
    "model = RubiksResNet()\n",
    "if cuda_available:\n",
    "    model.cuda()\n",
    "\n",
    "def NNWrapper(statematrix):\n",
    "    model.eval()\n",
    "    in_tensor = np.array([statematrix], dtype=np.float32)\n",
    "    in_tensor = Variable(torch.from_numpy(in_tensor))\n",
    "    if cuda_available: in_tensor = in_tensor.cuda()\n",
    "    outprobs, outval = model(in_tensor)\n",
    "    outprobs = outprobs.squeeze().cpu() # strip off the fourth dimension\n",
    "    outprobs = outprobs.data.numpy()\n",
    "    outval = outval.data.cpu().numpy()\n",
    "    return outprobs, float(outval)    "
   ]
  },
  {
   "cell_type": "code",
   "execution_count": null,
   "metadata": {
    "collapsed": true
   },
   "outputs": [],
   "source": [
    "L_RATE = 1e-3        # learning rate\n",
    "L2REG = 5e-4\n",
    "MAXMOVES = 10\n",
    "N_ITERS = 50        # number of times policy iteration is run\n",
    "N_TRAINEPS = 100\n",
    "N_TESTEPS = 200\n",
    "N_TRAINRUNS = 2000      # number of MCTS runs per step in one episode\n",
    "N_TESTRUNS = 1000\n",
    "N_EPOCHS = 50         # number of training epochs\n",
    "N_BATCHES = 128       # batch size for neural net training\n",
    "TRAINCPUCT = 2        # cpuct and temp are low (<1) if you want more exploitation than exploration\n",
    "TRAINTEMP = 1\n",
    "TESTCPUCT = 0.1\n",
    "TESTTEMP = 0.25"
   ]
  },
  {
   "cell_type": "code",
   "execution_count": null,
   "metadata": {},
   "outputs": [],
   "source": [
    "train = generate_cubes(1000,5)\n",
    "test = train[700:]\n",
    "train = train[:700]\n",
    "#train = generate_cubes(70,3)\n",
    "#test = train\n",
    "\n",
    "# for next stages of training, simply copy this cell but lower the number of extra hints for harder sudoku problems\n",
    "\n",
    "scores_means = []\n",
    "num_moves = []\n",
    "for iteration in range(N_ITERS):\n",
    "    print(\"Iteration %i\"%(iteration+1))\n",
    "    examples = RunEpisodes(train, N_TRAINEPS, N_TRAINRUNS, TRAINCPUCT, TRAINTEMP, MAXMOVES, NNWrapper)\n",
    "    optimizer = optim.Adam(model.parameters(), L_RATE, weight_decay=L2REG)\n",
    "    criterion1 = nn.KLDivLoss()\n",
    "    criterion2 = nn.MSELoss()\n",
    "    n_examples = len(examples)\n",
    "    random.shuffle(examples)\n",
    "\n",
    "    model.train()\n",
    "    for epoch in range(N_EPOCHS):\n",
    "        losses = []\n",
    "        states, probs, values = [], [], []\n",
    "        for index, (state,probvec,value) in enumerate(examples):\n",
    "            states.append(state)\n",
    "            probs.append(probvec)\n",
    "            values.append(value)\n",
    "            if index != n_examples and (index+1)%N_BATCHES != 0: continue\n",
    "        \n",
    "            states, probs, values = np.array(states, dtype=np.float32), np.array(probs, dtype=np.float32), np.array(values, dtype=np.float32)\n",
    "            states, probs, values = torch.from_numpy(states), torch.from_numpy(probs), torch.from_numpy(values)\n",
    "            if cuda_available:\n",
    "                states, probs, values = states.cuda(), probs.cuda(), values.cuda()       \n",
    "            states, target_probs, target_values = Variable(states), Variable(probs), Variable(values)\n",
    "        \n",
    "            optimizer.zero_grad()\n",
    "            output_probs, output_values = model(states)\n",
    "            loss1 = criterion1(output_probs, target_probs)\n",
    "            loss2 = criterion2(output_values, target_values)\n",
    "            total_loss = loss1 + loss2\n",
    "            total_loss.backward()\n",
    "            optimizer.step()\n",
    "            losses.append(total_loss.data[0])\n",
    "            \n",
    "            states, probs, values = [], [], []\n",
    "        \n",
    "        print(\"Epoch %i. Mean loss = %.5f\"%(epoch+1, np.mean(losses)))\n",
    "\n",
    "    scores, num_moves = EvaluateSolver(test, N_TESTEPS, N_TESTRUNS, TESTCPUCT, TESTTEMP, MAXMOVES, NNWrapper)\n",
    "    print(\"Finished evaluating. Number of cube states solved = %i, Average moves taken = %.2f\\n\\n\"%(np.sum(scores),np.average(num_moves)))\n",
    "    scores_means.append(np.average(scores))"
   ]
  },
  {
   "cell_type": "code",
   "execution_count": null,
   "metadata": {
    "collapsed": true
   },
   "outputs": [],
   "source": [
    "x = np.arange(N_ITERS)\n",
    "y = np.array(scores_means)\n",
    "yerr = np.array(scores_stdevs)\n",
    "plt.plot(x,y, \"b-\")\n",
    "plt.errorbar(x,y,yerr=yerr, fmt=\"k.\")\n",
    "plt.xlabel(\"Iterations\")\n",
    "plt.ylabel(\"Score\")\n",
    "plt.show()"
   ]
  },
  {
   "cell_type": "code",
   "execution_count": null,
   "metadata": {
    "collapsed": true
   },
   "outputs": [],
   "source": []
  }
 ],
 "metadata": {
  "kernelspec": {
   "display_name": "Python 3",
   "language": "python",
   "name": "python3"
  },
  "language_info": {
   "codemirror_mode": {
    "name": "ipython",
    "version": 3
   },
   "file_extension": ".py",
   "mimetype": "text/x-python",
   "name": "python",
   "nbconvert_exporter": "python",
   "pygments_lexer": "ipython3",
   "version": "3.6.2"
  }
 },
 "nbformat": 4,
 "nbformat_minor": 2
}
