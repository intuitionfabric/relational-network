{
 "cells": [
  {
   "cell_type": "code",
   "execution_count": 1,
   "metadata": {
    "collapsed": true
   },
   "outputs": [],
   "source": [
    "%matplotlib inline\n",
    "\n",
    "import numpy as np\n",
    "import matplotlib.pyplot as plt\n",
    "import random\n",
    "import time\n",
    "import csv\n",
    "from sudoku import SudokuBoard, SudokuGame, MCTSnode, MCTSrun, PlayEpisode\n",
    "from trainer import RunEpisodesSerial, EvaluateSolverSerial"
   ]
  },
  {
   "cell_type": "code",
   "execution_count": 2,
   "metadata": {
    "collapsed": true
   },
   "outputs": [],
   "source": [
    "import torch\n",
    "import torch.nn as nn\n",
    "import torch.optim as optim\n",
    "import torch.nn.functional as F\n",
    "import torch.nn.init as init\n",
    "from torch.autograd import Variable"
   ]
  },
  {
   "cell_type": "code",
   "execution_count": 3,
   "metadata": {},
   "outputs": [
    {
     "name": "stdout",
     "output_type": "stream",
     "text": [
      "Reading train.csv...\n",
      "Reading test.csv...\n"
     ]
    }
   ],
   "source": [
    "def read_csv(fname):\n",
    "    print(\"Reading %s...\" % fname)\n",
    "    with open(fname) as f:\n",
    "        reader = csv.reader(f, delimiter=',')\n",
    "        return [(q, a) for q, a in reader]\n",
    "\n",
    "train = read_csv('train.csv')\n",
    "#valid = read_csv('valid.csv')\n",
    "test = read_csv('test.csv')"
   ]
  },
  {
   "cell_type": "code",
   "execution_count": 4,
   "metadata": {
    "collapsed": true
   },
   "outputs": [],
   "source": [
    "class SudokuNN(nn.Module):\n",
    "    def __init__(self):\n",
    "        super(SudokuNN, self).__init__()        \n",
    "        self.conv1 = nn.Conv2d(2, 9, 3, stride=3)\n",
    "        self.conv2 = nn.Conv2d(9, 27, 2)\n",
    "        self.conv3 = nn.Conv2d(27, 1, 1)\n",
    "        self.conv4 = nn.ConvTranspose2d(1,1,8)\n",
    "        self.conv5 = nn.ConvTranspose2d(1,9,1)\n",
    "        \n",
    "        self.bn1 = nn.BatchNorm2d(9)\n",
    "        self.bn2 = nn.BatchNorm2d(27)\n",
    "        \n",
    "        self.fc1 = nn.Linear(4,4)\n",
    "        self.fc2 = nn.Linear(4,1)\n",
    "\n",
    "    def forward(self, state):\n",
    "        state = F.relu(self.bn1(self.conv1(state)))\n",
    "        state = F.relu(self.bn2(self.conv2(state)))\n",
    "        state = F.relu(self.conv3(state))\n",
    "        v = state.view(-1,4)\n",
    "        v = self.fc2(self.fc1(v))\n",
    "        pi = F.relu(self.conv4(state))\n",
    "        pi = F.relu(self.conv5(pi))\n",
    "        \n",
    "        return F.log_softmax(pi), F.sigmoid(v)"
   ]
  },
  {
   "cell_type": "code",
   "execution_count": 5,
   "metadata": {
    "collapsed": true
   },
   "outputs": [],
   "source": [
    "L_RATE = 1e-4      # learning rate\n",
    "L2REG = 1e-3\n",
    "N_ITERS = 10        # number of times policy iteration is run\n",
    "N_EPISODES = 20\n",
    "N_TESTEPS = 20\n",
    "N_RUNS = 100       # number of MCTS runs per step in one episode\n",
    "N_TESTRUNS = 100\n",
    "N_EPOCHS = 30      # number of training epochs\n",
    "N_BATCHES = 128\n",
    "CPUCT = 0.5        # cpuct and temp are low (<1) if you want more exploitation than exploration\n",
    "TEMP = 0.5"
   ]
  },
  {
   "cell_type": "code",
   "execution_count": null,
   "metadata": {
    "collapsed": true
   },
   "outputs": [],
   "source": [
    "cuda_available = torch.cuda.is_available()\n",
    "\n",
    "model = SudokuNN()\n",
    "if cuda_available:\n",
    "    model.cuda()\n",
    "optimizer = optim.Adam(model.parameters(), L_RATE, weight_decay=L2REG)\n",
    "criterion1 = nn.KLDivLoss()\n",
    "criterion2 = nn.MSELoss()\n",
    "    \n",
    "def NNWrapper(statematrix):\n",
    "    model.eval()\n",
    "    in_tensor = np.array([statematrix], dtype=np.float32)\n",
    "    in_tensor = Variable(torch.from_numpy(in_tensor))\n",
    "    if cuda_available: in_tensor = in_tensor.cuda()\n",
    "    outprobs, outval = model(in_tensor)\n",
    "    outprobs = outprobs.squeeze().cpu()\n",
    "    outprobs = outprobs.data.numpy()\n",
    "    outval = outval.data.cpu().numpy()\n",
    "    return outprobs, float(outval)\n"
   ]
  },
  {
   "cell_type": "code",
   "execution_count": null,
   "metadata": {},
   "outputs": [
    {
     "name": "stdout",
     "output_type": "stream",
     "text": [
      "Running episodes in serial.."
     ]
    }
   ],
   "source": [
    "scores_means = []\n",
    "scores_stdevs = []\n",
    "for iteration in range(N_ITERS):\n",
    "    examples = RunEpisodesSerial(train, N_EPISODES, N_RUNS, CPUCT, TEMP, NNWrapper)\n",
    "    n_examples = len(examples)\n",
    "    random.shuffle(examples)\n",
    "\n",
    "    model.train()\n",
    "    for epoch in range(N_EPOCHS):\n",
    "        losses = []\n",
    "        states, probs, values = [], [], []\n",
    "        for index, (state,probvec,value) in enumerate(examples):\n",
    "            states.append(state)\n",
    "            probs.append(probvec)\n",
    "            values.append(value)\n",
    "            if index != n_examples and (index+1)%N_BATCHES != 0: continue\n",
    "        \n",
    "            states, probs, values = np.array(states, dtype=np.float32), np.array(probs, dtype=np.float32), np.array(values, dtype=np.float32)\n",
    "            states, probs, values = torch.from_numpy(states), torch.from_numpy(probs), torch.from_numpy(values)\n",
    "            if cuda_available:\n",
    "                states, probs, values = states.cuda(), probs.cuda(), values.cuda()       \n",
    "            states, target_probs, target_values = Variable(states), Variable(probs), Variable(values)\n",
    "        \n",
    "            optimizer.zero_grad()\n",
    "            output_probs, output_values = model(states)\n",
    "            loss1 = criterion1(output_probs, target_probs)\n",
    "            loss2 = criterion2(output_values, target_values)\n",
    "            total_loss = loss1 + loss2\n",
    "            total_loss.backward()\n",
    "            optimizer.step()\n",
    "            losses.append(total_loss.data[0])\n",
    "            \n",
    "            states, probs, values = [], [], []\n",
    "        \n",
    "        print(\"Epoch %i. Mean loss = %.4f\"%(epoch+1, np.mean(losses)))\n",
    "\n",
    "    scores = EvaluateSolverSerial(test, N_TESTEPS, N_TESTRUNS, NNWrapper)\n",
    "    scores_means.append(np.average(scores))\n",
    "    scores_stdevs.append(np.std(scores))"
    "    print("Test accuracy: "+str(scores_means[-1]))"
   ]
  },
  {
   "cell_type": "code",
   "execution_count": null,
   "metadata": {
    "collapsed": true
   },
   "outputs": [],
   "source": [
    "x = np.arange(N_ITERS)\n",
    "y = np.array(scores_means)\n",
    "yerr = np.array(scores_stdevs)\n",
    "plt.plot(x,y, \"b-\")\n",
    "plt.errorbar(x,y,yerr=yerr, fmt=\"k.\")\n",
    "plt.xlabel(\"Iterations\")\n",
    "plt.ylabel(\"Score\")\n",
    "plt.show()"
   ]
  },
  {
   "cell_type": "code",
   "execution_count": null,
   "metadata": {
    "collapsed": true
   },
   "outputs": [],
   "source": []
  }
 ],
 "metadata": {
  "kernelspec": {
   "display_name": "Python 3",
   "language": "python",
   "name": "python3"
  },
  "language_info": {
   "codemirror_mode": {
    "name": "ipython",
    "version": 3
   },
   "file_extension": ".py",
   "mimetype": "text/x-python",
   "name": "python",
   "nbconvert_exporter": "python",
   "pygments_lexer": "ipython3",
   "version": "3.6.2"
  }
 },
 "nbformat": 4,
 "nbformat_minor": 2
}
